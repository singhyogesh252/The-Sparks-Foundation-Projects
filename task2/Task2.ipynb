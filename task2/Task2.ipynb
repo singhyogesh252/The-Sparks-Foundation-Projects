{
 "cells": [
  {
   "cell_type": "code",
   "execution_count": 1,
   "metadata": {},
   "outputs": [],
   "source": [
    "### The Sparks Foundation GRIPJAN21 Task2-Prediction using Unsupervised ML\n",
    "From the given ‘Iris’ dataset, predict the optimum number of clusters and represent it visually."
    "import pandas as pd\n",
    "import numpy as np\n",
    "import matplotlib.pyplot as plt\n",
    "%matplotlib inline"
   ]
  },
  {
   "cell_type": "code",
   "execution_count": 35,
   "metadata": {},
   "outputs": [],
   "source": [
    "df = pd.read_csv(\"iris.csv\")"
   ]
  },
  {
   "cell_type": "code",
   "execution_count": 36,
   "metadata": {},
   "outputs": [
    {
     "data": {
      "text/html": [
       "<div>\n",
       "<style scoped>\n",
       "    .dataframe tbody tr th:only-of-type {\n",
       "        vertical-align: middle;\n",
       "    }\n",
       "\n",
       "    .dataframe tbody tr th {\n",
       "        vertical-align: top;\n",
       "    }\n",
       "\n",
       "    .dataframe thead th {\n",
       "        text-align: right;\n",
       "    }\n",
       "</style>\n",
       "<table border=\"1\" class=\"dataframe\">\n",
       "  <thead>\n",
       "    <tr style=\"text-align: right;\">\n",
       "      <th></th>\n",
       "      <th>Id</th>\n",
       "      <th>SepalLengthCm</th>\n",
       "      <th>SepalWidthCm</th>\n",
       "      <th>PetalLengthCm</th>\n",
       "      <th>PetalWidthCm</th>\n",
       "      <th>Species</th>\n",
       "    </tr>\n",
       "  </thead>\n",
       "  <tbody>\n",
       "    <tr>\n",
       "      <th>0</th>\n",
       "      <td>1</td>\n",
       "      <td>5.1</td>\n",
       "      <td>3.5</td>\n",
       "      <td>1.4</td>\n",
       "      <td>0.2</td>\n",
       "      <td>Iris-setosa</td>\n",
       "    </tr>\n",
       "    <tr>\n",
       "      <th>1</th>\n",
       "      <td>2</td>\n",
       "      <td>4.9</td>\n",
       "      <td>3.0</td>\n",
       "      <td>1.4</td>\n",
       "      <td>0.2</td>\n",
       "      <td>Iris-setosa</td>\n",
       "    </tr>\n",
       "    <tr>\n",
       "      <th>2</th>\n",
       "      <td>3</td>\n",
       "      <td>4.7</td>\n",
       "      <td>3.2</td>\n",
       "      <td>1.3</td>\n",
       "      <td>0.2</td>\n",
       "      <td>Iris-setosa</td>\n",
       "    </tr>\n",
       "    <tr>\n",
       "      <th>3</th>\n",
       "      <td>4</td>\n",
       "      <td>4.6</td>\n",
       "      <td>3.1</td>\n",
       "      <td>1.5</td>\n",
       "      <td>0.2</td>\n",
       "      <td>Iris-setosa</td>\n",
       "    </tr>\n",
       "    <tr>\n",
       "      <th>4</th>\n",
       "      <td>5</td>\n",
       "      <td>5.0</td>\n",
       "      <td>3.6</td>\n",
       "      <td>1.4</td>\n",
       "      <td>0.2</td>\n",
       "      <td>Iris-setosa</td>\n",
       "    </tr>\n",
       "  </tbody>\n",
       "</table>\n",
       "</div>"
      ],
      "text/plain": [
       "   Id  SepalLengthCm  SepalWidthCm  PetalLengthCm  PetalWidthCm      Species\n",
       "0   1            5.1           3.5            1.4           0.2  Iris-setosa\n",
       "1   2            4.9           3.0            1.4           0.2  Iris-setosa\n",
       "2   3            4.7           3.2            1.3           0.2  Iris-setosa\n",
       "3   4            4.6           3.1            1.5           0.2  Iris-setosa\n",
       "4   5            5.0           3.6            1.4           0.2  Iris-setosa"
      ]
     },
     "execution_count": 36,
     "metadata": {},
     "output_type": "execute_result"
    }
   ],
   "source": [
    "df.head()"
   ]
  },
  {
   "cell_type": "code",
   "execution_count": 37,
   "metadata": {},
   "outputs": [
    {
     "data": {
      "text/html": [
       "<div>\n",
       "<style scoped>\n",
       "    .dataframe tbody tr th:only-of-type {\n",
       "        vertical-align: middle;\n",
       "    }\n",
       "\n",
       "    .dataframe tbody tr th {\n",
       "        vertical-align: top;\n",
       "    }\n",
       "\n",
       "    .dataframe thead th {\n",
       "        text-align: right;\n",
       "    }\n",
       "</style>\n",
       "<table border=\"1\" class=\"dataframe\">\n",
       "  <thead>\n",
       "    <tr style=\"text-align: right;\">\n",
       "      <th></th>\n",
       "      <th>Id</th>\n",
       "      <th>SepalLengthCm</th>\n",
       "      <th>SepalWidthCm</th>\n",
       "      <th>PetalLengthCm</th>\n",
       "      <th>PetalWidthCm</th>\n",
       "      <th>Species</th>\n",
       "    </tr>\n",
       "  </thead>\n",
       "  <tbody>\n",
       "    <tr>\n",
       "      <th>0</th>\n",
       "      <td>False</td>\n",
       "      <td>False</td>\n",
       "      <td>False</td>\n",
       "      <td>False</td>\n",
       "      <td>False</td>\n",
       "      <td>False</td>\n",
       "    </tr>\n",
       "    <tr>\n",
       "      <th>1</th>\n",
       "      <td>False</td>\n",
       "      <td>False</td>\n",
       "      <td>False</td>\n",
       "      <td>False</td>\n",
       "      <td>False</td>\n",
       "      <td>False</td>\n",
       "    </tr>\n",
       "    <tr>\n",
       "      <th>2</th>\n",
       "      <td>False</td>\n",
       "      <td>False</td>\n",
       "      <td>False</td>\n",
       "      <td>False</td>\n",
       "      <td>False</td>\n",
       "      <td>False</td>\n",
       "    </tr>\n",
       "    <tr>\n",
       "      <th>3</th>\n",
       "      <td>False</td>\n",
       "      <td>False</td>\n",
       "      <td>False</td>\n",
       "      <td>False</td>\n",
       "      <td>False</td>\n",
       "      <td>False</td>\n",
       "    </tr>\n",
       "    <tr>\n",
       "      <th>4</th>\n",
       "      <td>False</td>\n",
       "      <td>False</td>\n",
       "      <td>False</td>\n",
       "      <td>False</td>\n",
       "      <td>False</td>\n",
       "      <td>False</td>\n",
       "    </tr>\n",
       "    <tr>\n",
       "      <th>...</th>\n",
       "      <td>...</td>\n",
       "      <td>...</td>\n",
       "      <td>...</td>\n",
       "      <td>...</td>\n",
       "      <td>...</td>\n",
       "      <td>...</td>\n",
       "    </tr>\n",
       "    <tr>\n",
       "      <th>145</th>\n",
       "      <td>False</td>\n",
       "      <td>False</td>\n",
       "      <td>False</td>\n",
       "      <td>False</td>\n",
       "      <td>False</td>\n",
       "      <td>False</td>\n",
       "    </tr>\n",
       "    <tr>\n",
       "      <th>146</th>\n",
       "      <td>False</td>\n",
       "      <td>False</td>\n",
       "      <td>False</td>\n",
       "      <td>False</td>\n",
       "      <td>False</td>\n",
       "      <td>False</td>\n",
       "    </tr>\n",
       "    <tr>\n",
       "      <th>147</th>\n",
       "      <td>False</td>\n",
       "      <td>False</td>\n",
       "      <td>False</td>\n",
       "      <td>False</td>\n",
       "      <td>False</td>\n",
       "      <td>False</td>\n",
       "    </tr>\n",
       "    <tr>\n",
       "      <th>148</th>\n",
       "      <td>False</td>\n",
       "      <td>False</td>\n",
       "      <td>False</td>\n",
       "      <td>False</td>\n",
       "      <td>False</td>\n",
       "      <td>False</td>\n",
       "    </tr>\n",
       "    <tr>\n",
       "      <th>149</th>\n",
       "      <td>False</td>\n",
       "      <td>False</td>\n",
       "      <td>False</td>\n",
       "      <td>False</td>\n",
       "      <td>False</td>\n",
       "      <td>False</td>\n",
       "    </tr>\n",
       "  </tbody>\n",
       "</table>\n",
       "<p>150 rows × 6 columns</p>\n",
       "</div>"
      ],
      "text/plain": [
       "        Id  SepalLengthCm  SepalWidthCm  PetalLengthCm  PetalWidthCm  Species\n",
       "0    False          False         False          False         False    False\n",
       "1    False          False         False          False         False    False\n",
       "2    False          False         False          False         False    False\n",
       "3    False          False         False          False         False    False\n",
       "4    False          False         False          False         False    False\n",
       "..     ...            ...           ...            ...           ...      ...\n",
       "145  False          False         False          False         False    False\n",
       "146  False          False         False          False         False    False\n",
       "147  False          False         False          False         False    False\n",
       "148  False          False         False          False         False    False\n",
       "149  False          False         False          False         False    False\n",
       "\n",
       "[150 rows x 6 columns]"
      ]
     },
     "execution_count": 37,
     "metadata": {},
     "output_type": "execute_result"
    }
   ],
   "source": [
    "df.isna()"
   ]
  },
  {
   "cell_type": "code",
   "execution_count": 38,
   "metadata": {},
   "outputs": [],
   "source": [
    "df.drop([\"Id\"],axis=1,inplace=True)"
   ]
  },
  {
   "cell_type": "code",
   "execution_count": 47,
   "metadata": {},
   "outputs": [
    {
     "data": {
      "text/html": [
       "<div>\n",
       "<style scoped>\n",
       "    .dataframe tbody tr th:only-of-type {\n",
       "        vertical-align: middle;\n",
       "    }\n",
       "\n",
       "    .dataframe tbody tr th {\n",
       "        vertical-align: top;\n",
       "    }\n",
       "\n",
       "    .dataframe thead th {\n",
       "        text-align: right;\n",
       "    }\n",
       "</style>\n",
       "<table border=\"1\" class=\"dataframe\">\n",
       "  <thead>\n",
       "    <tr style=\"text-align: right;\">\n",
       "      <th></th>\n",
       "      <th>SepalLengthCm</th>\n",
       "      <th>SepalWidthCm</th>\n",
       "      <th>PetalLengthCm</th>\n",
       "      <th>PetalWidthCm</th>\n",
       "      <th>Species</th>\n",
       "    </tr>\n",
       "  </thead>\n",
       "  <tbody>\n",
       "    <tr>\n",
       "      <th>145</th>\n",
       "      <td>6.7</td>\n",
       "      <td>3.0</td>\n",
       "      <td>5.2</td>\n",
       "      <td>2.3</td>\n",
       "      <td>Iris-virginica</td>\n",
       "    </tr>\n",
       "    <tr>\n",
       "      <th>146</th>\n",
       "      <td>6.3</td>\n",
       "      <td>2.5</td>\n",
       "      <td>5.0</td>\n",
       "      <td>1.9</td>\n",
       "      <td>Iris-virginica</td>\n",
       "    </tr>\n",
       "    <tr>\n",
       "      <th>147</th>\n",
       "      <td>6.5</td>\n",
       "      <td>3.0</td>\n",
       "      <td>5.2</td>\n",
       "      <td>2.0</td>\n",
       "      <td>Iris-virginica</td>\n",
       "    </tr>\n",
       "    <tr>\n",
       "      <th>148</th>\n",
       "      <td>6.2</td>\n",
       "      <td>3.4</td>\n",
       "      <td>5.4</td>\n",
       "      <td>2.3</td>\n",
       "      <td>Iris-virginica</td>\n",
       "    </tr>\n",
       "    <tr>\n",
       "      <th>149</th>\n",
       "      <td>5.9</td>\n",
       "      <td>3.0</td>\n",
       "      <td>5.1</td>\n",
       "      <td>1.8</td>\n",
       "      <td>Iris-virginica</td>\n",
       "    </tr>\n",
       "  </tbody>\n",
       "</table>\n",
       "</div>"
      ],
      "text/plain": [
       "     SepalLengthCm  SepalWidthCm  PetalLengthCm  PetalWidthCm         Species\n",
       "145            6.7           3.0            5.2           2.3  Iris-virginica\n",
       "146            6.3           2.5            5.0           1.9  Iris-virginica\n",
       "147            6.5           3.0            5.2           2.0  Iris-virginica\n",
       "148            6.2           3.4            5.4           2.3  Iris-virginica\n",
       "149            5.9           3.0            5.1           1.8  Iris-virginica"
      ]
     },
     "execution_count": 47,
     "metadata": {},
     "output_type": "execute_result"
    }
   ],
   "source": [
    "df.tail()"
   ]
  },
  {
   "cell_type": "code",
   "execution_count": 48,
   "metadata": {},
   "outputs": [],
   "source": [
    "X = df.iloc[:,[0,1,2,3]].values"
   ]
  },
  {
   "cell_type": "code",
   "execution_count": 49,
   "metadata": {},
   "outputs": [],
   "source": [
    "from sklearn.cluster import KMeans"
   ]
  },
  {
   "cell_type": "code",
   "execution_count": 53,
   "metadata": {},
   "outputs": [
    {
     "data": {
      "text/plain": [
       "array([1, 1, 1, 1, 1, 1, 1, 1, 1, 1, 1, 1, 1, 1, 1, 1, 1, 1, 1, 1, 1, 1,\n",
       "       1, 1, 1, 1, 1, 1, 1, 1, 1, 1, 1, 1, 1, 1, 1, 1, 1, 1, 1, 1, 1, 1,\n",
       "       1, 1, 1, 1, 1, 1, 0, 0, 2, 0, 0, 0, 0, 0, 0, 0, 0, 0, 0, 0, 0, 0,\n",
       "       0, 0, 0, 0, 0, 0, 0, 0, 0, 0, 0, 2, 0, 0, 0, 0, 0, 0, 0, 0, 0, 0,\n",
       "       0, 0, 0, 0, 0, 0, 0, 0, 0, 0, 0, 0, 2, 0, 2, 2, 2, 2, 0, 2, 2, 2,\n",
       "       2, 2, 2, 0, 0, 2, 2, 2, 2, 0, 2, 0, 2, 0, 2, 2, 0, 0, 2, 2, 2, 2,\n",
       "       2, 0, 2, 2, 2, 2, 0, 2, 2, 2, 0, 2, 2, 2, 0, 2, 2, 0])"
      ]
     },
     "execution_count": 53,
     "metadata": {},
     "output_type": "execute_result"
    }
   ],
   "source": [
    "model = KMeans(n_clusters=3)\n",
    "y_predicted = model.fit_predict(X)\n",
    "y_predicted"
   ]
  },
  {
   "cell_type": "code",
   "execution_count": 54,
   "metadata": {},
   "outputs": [],
   "source": [
    "df[\"clusters\"] = y_predicted"
   ]
  },
  {
   "cell_type": "code",
   "execution_count": 56,
   "metadata": {},
   "outputs": [
    {
     "data": {
      "text/html": [
       "<div>\n",
       "<style scoped>\n",
       "    .dataframe tbody tr th:only-of-type {\n",
       "        vertical-align: middle;\n",
       "    }\n",
       "\n",
       "    .dataframe tbody tr th {\n",
       "        vertical-align: top;\n",
       "    }\n",
       "\n",
       "    .dataframe thead th {\n",
       "        text-align: right;\n",
       "    }\n",
       "</style>\n",
       "<table border=\"1\" class=\"dataframe\">\n",
       "  <thead>\n",
       "    <tr style=\"text-align: right;\">\n",
       "      <th></th>\n",
       "      <th>SepalLengthCm</th>\n",
       "      <th>SepalWidthCm</th>\n",
       "      <th>PetalLengthCm</th>\n",
       "      <th>PetalWidthCm</th>\n",
       "      <th>Species</th>\n",
       "      <th>clusters</th>\n",
       "    </tr>\n",
       "  </thead>\n",
       "  <tbody>\n",
       "    <tr>\n",
       "      <th>0</th>\n",
       "      <td>5.1</td>\n",
       "      <td>3.5</td>\n",
       "      <td>1.4</td>\n",
       "      <td>0.2</td>\n",
       "      <td>Iris-setosa</td>\n",
       "      <td>1</td>\n",
       "    </tr>\n",
       "    <tr>\n",
       "      <th>1</th>\n",
       "      <td>4.9</td>\n",
       "      <td>3.0</td>\n",
       "      <td>1.4</td>\n",
       "      <td>0.2</td>\n",
       "      <td>Iris-setosa</td>\n",
       "      <td>1</td>\n",
       "    </tr>\n",
       "    <tr>\n",
       "      <th>2</th>\n",
       "      <td>4.7</td>\n",
       "      <td>3.2</td>\n",
       "      <td>1.3</td>\n",
       "      <td>0.2</td>\n",
       "      <td>Iris-setosa</td>\n",
       "      <td>1</td>\n",
       "    </tr>\n",
       "    <tr>\n",
       "      <th>3</th>\n",
       "      <td>4.6</td>\n",
       "      <td>3.1</td>\n",
       "      <td>1.5</td>\n",
       "      <td>0.2</td>\n",
       "      <td>Iris-setosa</td>\n",
       "      <td>1</td>\n",
       "    </tr>\n",
       "    <tr>\n",
       "      <th>4</th>\n",
       "      <td>5.0</td>\n",
       "      <td>3.6</td>\n",
       "      <td>1.4</td>\n",
       "      <td>0.2</td>\n",
       "      <td>Iris-setosa</td>\n",
       "      <td>1</td>\n",
       "    </tr>\n",
       "    <tr>\n",
       "      <th>5</th>\n",
       "      <td>5.4</td>\n",
       "      <td>3.9</td>\n",
       "      <td>1.7</td>\n",
       "      <td>0.4</td>\n",
       "      <td>Iris-setosa</td>\n",
       "      <td>1</td>\n",
       "    </tr>\n",
       "    <tr>\n",
       "      <th>6</th>\n",
       "      <td>4.6</td>\n",
       "      <td>3.4</td>\n",
       "      <td>1.4</td>\n",
       "      <td>0.3</td>\n",
       "      <td>Iris-setosa</td>\n",
       "      <td>1</td>\n",
       "    </tr>\n",
       "    <tr>\n",
       "      <th>7</th>\n",
       "      <td>5.0</td>\n",
       "      <td>3.4</td>\n",
       "      <td>1.5</td>\n",
       "      <td>0.2</td>\n",
       "      <td>Iris-setosa</td>\n",
       "      <td>1</td>\n",
       "    </tr>\n",
       "    <tr>\n",
       "      <th>8</th>\n",
       "      <td>4.4</td>\n",
       "      <td>2.9</td>\n",
       "      <td>1.4</td>\n",
       "      <td>0.2</td>\n",
       "      <td>Iris-setosa</td>\n",
       "      <td>1</td>\n",
       "    </tr>\n",
       "    <tr>\n",
       "      <th>9</th>\n",
       "      <td>4.9</td>\n",
       "      <td>3.1</td>\n",
       "      <td>1.5</td>\n",
       "      <td>0.1</td>\n",
       "      <td>Iris-setosa</td>\n",
       "      <td>1</td>\n",
       "    </tr>\n",
       "  </tbody>\n",
       "</table>\n",
       "</div>"
      ],
      "text/plain": [
       "   SepalLengthCm  SepalWidthCm  PetalLengthCm  PetalWidthCm      Species  \\\n",
       "0            5.1           3.5            1.4           0.2  Iris-setosa   \n",
       "1            4.9           3.0            1.4           0.2  Iris-setosa   \n",
       "2            4.7           3.2            1.3           0.2  Iris-setosa   \n",
       "3            4.6           3.1            1.5           0.2  Iris-setosa   \n",
       "4            5.0           3.6            1.4           0.2  Iris-setosa   \n",
       "5            5.4           3.9            1.7           0.4  Iris-setosa   \n",
       "6            4.6           3.4            1.4           0.3  Iris-setosa   \n",
       "7            5.0           3.4            1.5           0.2  Iris-setosa   \n",
       "8            4.4           2.9            1.4           0.2  Iris-setosa   \n",
       "9            4.9           3.1            1.5           0.1  Iris-setosa   \n",
       "\n",
       "   clusters  \n",
       "0         1  \n",
       "1         1  \n",
       "2         1  \n",
       "3         1  \n",
       "4         1  \n",
       "5         1  \n",
       "6         1  \n",
       "7         1  \n",
       "8         1  \n",
       "9         1  "
      ]
     },
     "execution_count": 56,
     "metadata": {},
     "output_type": "execute_result"
    }
   ],
   "source": [
    "df.head(10)"
   ]
  },
  {
   "cell_type": "code",
   "execution_count": 57,
   "metadata": {},
   "outputs": [
    {
     "data": {
      "text/plain": [
       "array([[5.9016129 , 2.7483871 , 4.39354839, 1.43387097],\n",
       "       [5.006     , 3.418     , 1.464     , 0.244     ],\n",
       "       [6.85      , 3.07368421, 5.74210526, 2.07105263]])"
      ]
     },
     "execution_count": 57,
     "metadata": {},
     "output_type": "execute_result"
    }
   ],
   "source": [
    "model.cluster_centers_"
   ]
  },
  {
   "cell_type": "code",
   "execution_count": 59,
   "metadata": {},
   "outputs": [
    {
     "data": {
      "text/plain": [
       "<matplotlib.legend.Legend at 0x21ea99af4c0>"
      ]
     },
     "execution_count": 59,
     "metadata": {},
     "output_type": "execute_result"
    },
    {
     "data": {
      "image/png": "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\n",
      "text/plain": [
       "<Figure size 1008x432 with 1 Axes>"
      ]
     },
     "metadata": {
      "needs_background": "light"
     },
     "output_type": "display_data"
    }
   ],
   "source": [
    "plt.figure(figsize=(14,6))\n",
    "plt.scatter(X[y_predicted == 0, 0], X[y_predicted == 0, 1], \n",
    "            s = 100, c = 'red', label = 'Iris-setosa')\n",
    "plt.scatter(X[y_predicted == 1, 0], X[y_predicted == 1, 1], \n",
    "            s = 100, c = 'blue', label = 'Iris-versicolour')\n",
    "plt.scatter(X[y_predicted == 2, 0], X[y_predicted == 2, 1],\n",
    "            s = 100, c = 'green', label = 'Iris-virginica')\n",
    "\n",
    "# Plotting the centroids of the clusters\n",
    "plt.scatter(model.cluster_centers_[:, 0], model.cluster_centers_[:,1], \n",
    "            s = 100, c = 'yellow', label = 'Centroids')\n",
    "\n",
    "plt.legend()"
   ]
  },
  {
   "cell_type": "code",
   "execution_count": 50,
   "metadata": {},
   "outputs": [],
   "source": [
    "sse = []\n",
    "krange = range(1,11)\n",
    "for i in krange:\n",
    "    model = KMeans(n_clusters=i,init=\"k-means++\",max_iter = 300, n_init = 10, random_state = 0)\n",
    "    model.fit(X)\n",
    "    sse.append(model.inertia_)\n",
    "    "
   ]
  },
  {
   "cell_type": "code",
   "execution_count": 52,
   "metadata": {},
   "outputs": [
    {
     "data": {
      "text/plain": [
       "Text(0.5, 1.0, 'The Elbow Method')"
      ]
     },
     "execution_count": 52,
     "metadata": {},
     "output_type": "execute_result"
    },
    {
     "data": {
      "image/png": "iVBORw0KGgoAAAANSUhEUgAAAYUAAAEWCAYAAACJ0YulAAAABHNCSVQICAgIfAhkiAAAAAlwSFlzAAALEgAACxIB0t1+/AAAADh0RVh0U29mdHdhcmUAbWF0cGxvdGxpYiB2ZXJzaW9uMy4yLjIsIGh0dHA6Ly9tYXRwbG90bGliLm9yZy+WH4yJAAAgAElEQVR4nO3de3hc9X3v+/dnRjdfJA3GsmNbAkMwFwORaB02gZZcXAIlTchOm9RNk7JTetg9hxba9BLI6Tnd6dmcw+mTpmmTpim54VwaQiEpkAsJcRNISAqxwQbMzQaDJXwTF1vyTdfv/mOW5LEtSyOj0ZrRfF7PM8+s9Zs1s74zD/ijtX7r91uKCMzMzAAyaRdgZmblw6FgZmajHApmZjbKoWBmZqMcCmZmNsqhYGZmoxwKVrYk/Q9JX52G/SyVFJJqkvUfS/qDUu93Okzld5F0i6T/ORWfZeXLoWCpkbS34DEs6UDB+u9O8b5ukdR/xD43TOU+jldBKD18RPv8pObni/ycaQlRm9kcCpaaiJg78gC2Au8saPtaCXb5t4X7jIj2EuzjtZgj6ZyC9fcDW9IqxqqTQ8HKXZ2kL0vqlbRR0oqRFyQtlnSHpG5JWyRdO4X7fb2khyTtkXSnpHkF+31XUsvu5PTMWUn7hyTdXbDdZkm3Fax3SuoYZ59fAa4sWP894MuFGxzrO0u6DPgo8NtjHAWdLOmB5Df8gaT5E32X5LXzJD2cvO8bQENxP51VMoeClbt3AbcCOeAu4NMAkjLA3cAGYAmwEvgTSZdO0X5/D/h9YDEwCPxjst/Tga8DfwK0AN8F7pZUB9wH/KqkjKRFQC1wUfK+U4G5wKPj7POrwCpJ2eQf50bgwZEXx/vOEXEP8P8C3xjjKOj9wIeABUAd8OcTfZfk+/w7+aCaB/wb8JuT+gWtIjkUrNz9NCK+GxFD5P+BGvnH7o1AS0T8TUT0R8RzwOeAVeN81p8nfxGPPFaPs+1XIuLxiNgH/F/A+yRlgd8GvhMR90bEAPBxYBZwYVJDL9ABvBn4PvCipDOT9Z9ExPA4++wCngZ+jfwRw5ePeP14vjPAlyLimYg4ANyW1Md43wW4gHyofTIiBiLiduAXE+zHZoCatAswm8COguX9QENyldDJwGJJuwtezwI/GeezPh4Rf1XkfjsLll8g/w/kfPJHDi+MvBARw5I6yf/lDvmjhbcApyXLu8kHwpuS9Yl8Gfhv5P9hvhhYVvDa8XxnOPo3nJssj/ddhoAX4/AZM1/AZjyHglWqTmBLRCybcMvj01awfBIwALwEbAPOHXlBkpJtX0ya7gPeCZxC/nTObuB3yYfCp4vY7x3Jdusi4gVJhd9vou882SmPx/suASyRpIJgOAl4dpL7sArj00dWqR4CeiR9RNKs5Dz8OZLeOEWf/wFJyyXNBv4GuD05hXUb8A5JKyXVAn8G9AE/S953H/BWYFZEdJH/K/4y4ETgkYl2mpyuehsw1tiCib7zTmBp0vdQjPG+y8/J96VcK6lG0nuA84v8XKtgDgWrSMk/0O8kf358C/m/4j8PNI/ztr88YpzCS+Ns+xXgFvKnXhqAa5P9Pg18APhUss93kr+Utj95/RlgL8kpnYjoAZ4DHkhqLua7rY2Io/4iL+I7/1vy/PKRYx6OsZ9jfpfk+7yH/KmsV8n3P3yzmPqtssk32TEzsxE+UjAzs1EOBTMzG+VQMDOzUQ4FMzMbVdHjFObPnx9Lly5Nuwwzs4qybt26lyKiZazXShYKks4AvlHQdCrwf5MfsfkNYCnwPPC+iHg1ec8NwFXkR1NeGxHfH28fS5cuZe3atVNeu5nZTCbpmKPTS3b6KCKejoiOiOgAfpn88PpvAdcDa5JRmWuSdSQtJz+Hy9nkB/t8JplrxszMpsl09SmsBJ6NiBeAK4CRichWA+9Olq8Abo2IvojYAmzGIyjNzKbVdIXCKvJT9AIsjIjtAMnzgqR9CYdPQtbFoUnGRkm6WtJaSWu7u7tLWLKZWfUpeSgk87K/i0ND8I+56RhtRw23joibI2JFRKxoaRmzn8TMzI7TdBwp/DrwcETsTNZ3JjcgIXnelbR3cfjMlK3kZ3E0M7NpMh2h8DscOnUE+btnjdxy8ErgzoL2VZLqJZ1Cfh75h6ahPjMzS5R0nEIy7fAlwH8vaL4JuE3SVeRv1v5egIjYmNzP9gnyU/ZeU+yskmZmNjVKGgoRsZ/8PPKFbS+TvxpprO1vBG4sZU0AXa/u59aHOll1fhutJ8wu9e7MzCpGVU5zsa9viE//aDMPbXkl7VLMzMpKVYbCaQvmMrsuy4bO3RNvbGZWRaoyFLIZce6SZtZ37Um7FDOzslKVoQDQcVKOJ7f10DfovmwzsxHVGwqtOfqHhnlye2/apZiZlY2qDYX2thyA+xXMzApUbSgsam6gpbHeoWBmVqBqQ0ESHW051jsUzMxGVW0oAHS05XjupX3s2T+QdilmZmWhqkOhvTXfr/Doiz5aMDODKg+FN7Q1A7B+q0PBzAyqPBSaGmp5fcscNnQ5FMzMoMpDAfKXpq7v3EPEUffzMTOrOlUfCh1tOV7a28e2PQfTLsXMLHUOhWQQm/sVzMwcCpz5uibqshn3K5iZ4VCgribD8sVNHsRmZoZDAcifQnqsaw+DQ8Npl2JmliqHAvlQODAwxKZde9MuxcwsVQ4FPGOqmdkIhwKw9MTZNM+qdWezmVW9koaCpJyk2yU9JelJSW+SNE/SvZI2Jc8nFGx/g6TNkp6WdGkpazuiTtrbcjziy1LNrMqV+kjhH4B7IuJMoB14ErgeWBMRy4A1yTqSlgOrgLOBy4DPSMqWuL5RHa3NPLOzl/39g9O1SzOzslOyUJDUBFwMfAEgIvojYjdwBbA62Ww18O5k+Qrg1ojoi4gtwGbg/FLVd6T2thzDAY+/2DNduzQzKzulPFI4FegGviTpEUmflzQHWBgR2wGS5wXJ9kuAzoL3dyVt08KdzWZmpQ2FGuCXgH+OiPOAfSSnio5BY7QdNUudpKslrZW0tru7e2oqBebPraf1hFkexGZmVa2UodAFdEXEg8n67eRDYqekRQDJ866C7dsK3t8KbDvyQyPi5ohYERErWlpaprTgdt+e08yqXMlCISJ2AJ2SzkiaVgJPAHcBVyZtVwJ3Jst3Aask1Us6BVgGPFSq+sbS0Zrjxd0H6O7tm87dmpmVjZoSf/4fA1+TVAc8B3yIfBDdJukqYCvwXoCI2CjpNvLBMQhcExFDJa7vMB0nJbfn7NrNyrMWTueuzczKQklDISLWAyvGeGnlMba/EbixlDWN5+zFTWQzYn2nQ8HMqpNHNBeYXVfD6Qsb3a9gZlXLoXCEjrZmNnTu9u05zawqORSO0NGWo+fgIFte2pd2KWZm086hcITRQWyeHM/MqpBD4QjLFjQyuy7Lhs49aZdiZjbtHApHyGbEOUua3dlsZlXJoTCG89pyPLGth77BaR0mYWaWOofCGNrbcvQPDfPU9t60SzEzm1YOhTG4s9nMqpVDYQyLmxtoaax3v4KZVR2Hwhgk0d7qGVPNrPo4FI6ho62Z57r3sefAQNqlmJlNG4fCMYz0KzzW5fEKZlY9HArH8IbWfCis73w15UrMzKaPQ+EYmmfVcmrLHNZ7ZLOZVRGHwjg6ks5mz5hqZtXCoTCOjpNyvLS3j+17DqZdipnZtHAojKN9tF/Bl6aaWXUYNxQkZSX9cLqKKTdnLmqkLpthg0PBzKrEuKEQEUPAfknN01RPWamvyXLW4iYfKZhZ1agpYpuDwGOS7gVGb0cWEdeWrKoycl5bjtvWdjI0HGQzSrscM7OSKiYUvpM8qlJ7WzO3/Ox5Nu3q5czXNaVdjplZSU0YChGxWlIdcHrS9HREFDX3g6TngV5gCBiMiBWS5gHfAJYCzwPvi4hXk+1vAK5Ktr82Ir4/qW9TAiOdzRs6dzsUzGzGm/DqI0lvATYB/wR8BnhG0sWT2MdbI6IjIlYk69cDayJiGbAmWUfScmAVcDZwGfAZSdlJ7Kcklp44h6aGGg9iM7OqUMwlqX8HvD0i3hwRFwOXAn//GvZ5BbA6WV4NvLug/daI6IuILcBm4PzXsJ8pkcmI9jbPmGpm1aGYUKiNiKdHViLiGaC2yM8P4AeS1km6OmlbGBHbk8/aDixI2pcAnQXv7UraDiPpaklrJa3t7u4usozXpqMtxzM7e9nfPzgt+zMzS0sxobBO0hckvSV5fA5YV+TnXxQRvwT8OnDNBKedxrq056j5JSLi5ohYERErWlpaiizjtWlvzTE0HGzc1jMt+zMzS0sxofCHwEbgWuA64ImkbUIRsS153gV8i/zpoJ2SFgEkz7uSzbuAtoK3twLbitlPqY3entOnkMxshptoRHMGWBcRn4iI90TEf42Iv4+Ivok+WNIcSY0jy8DbgceBu4Ark82uBO5Mlu8CVkmql3QKsAx46Li+1RRraaxnSW4WjzgUzGyGG/eS1IgYlrRB0kkRsXWSn70Q+Jakkf38a0TcI+kXwG2SrgK2Au9N9rVR0m3kj0QGgWuSEdVloaMt5yMFM5vxihm8tgjYKOkhDh/R/K7x3hQRzwHtY7S/DKw8xntuBG4soqZp197WzHce285Le/uYP7c+7XLMzEqimFD4WMmrqAAdbScA+X6FlWctTLkaM7PSGDcUkj6Ff4qIc6apnrJ1zpImMnIomNnMNtEsqcPABkknTVM9ZWt2XQ2nL2xkfZdHNpvZzFWyPoWZ6LyTcnz3sR1EBEkHupnZjOI+hUlob83x9Yc6ef7l/Zwyf07a5ZiZTbkJB69FxH3kZzOtTZZ/ATxc4rrKkgexmdlMV8wsqf8bcDvwL0nTEuDfS1lUuVq2YC6zarOeHM/MZqxiprm4BrgI6AGIiE0cmsSuqtRkM5zb2syGLoeCmc1MxYRCX0T0j6xIqmGMieqqRUdbjo3beugfHE67FDOzKVdMKNwn6aPALEmXAP8G3F3asspXe2uO/sFhntrhGVPNbOYpJhSuB7qBx4D/DnwX+KtSFlXO2tuaAXc2m9nMVMw9moeBzyWPqrckN4v5c+t5pHM3H3xT2tWYmU2tYo4UrIAkOtqafaRgZjOSQ+E4tLfmeLZ7Hz0HB9IuxcxsSjkUjkPHSflBbI95HiQzm2GO2acg6W7GufS0Guc+GvGGJflQWN+5m4tOm59yNWZmU2e8juaPJ8/vAV4HfDVZ/x3y015UrebZtZw6f45HNpvZjHPMUEjmOULS/xMRFxe8dLek+0teWZlrb8vx080vecZUM5tRiulTaJF06siKpFOAltKVVBk62nJ09/axo+dg2qWYmU2ZYqbO/lPgx5KeS9aXkh/EVtVGZkxdv3U3i86dlXI1ZmZTo5jBa/dIWgacmTQ9FRF9pS2r/J21qJG6bIb1Xbv59XMXpV2OmdmUKGbq7NnAXwB/FBEbgJMk/UaxO5CUlfSIpG8n6/Mk3StpU/J8QsG2N0jaLOlpSZcex/eZNvU1Wc5a3ORBbGY2oxTTp/AloB8YmdShC/ifk9jHdcCTBevXA2siYhmwJllH0nJgFXA2cBnwGUnZSexn2nW0NvNY1x6Ghqt20lgzm2GKCYXXR8TfAgMAEXEAKOpyG0mtwDuAzxc0XwGsTpZXA+8uaL81IvoiYguwGTi/mP2kpb0tx77+ITbv2pt2KWZmU6KYUOiXNItkIJuk1wPF9il8EvhLoPDmAwsjYjtA8jxyw54lQGfBdl1J22EkXS1praS13d3dRZZRGr49p5nNNMWEwl8D9wBtkr5G/pTPX070pqTfYVdErCuylrGOPo46LxMRN0fEiohY0dKS7pWxp5w4h6aGGtb7TmxmNkOMe/WRpAxwAvlRzReQ/4f7uoh4qYjPvgh4l6TLgQagSdJXgZ2SFkXEdkmLgF3J9l1AW8H7W4Ftk/o20yyTEe1tOdZvdSiY2cww7pFCci+FP4qIlyPiOxHx7SIDgYi4ISJaI2Ip+Q7k/4iIDwB3AVcmm10J3Jks3wWsklSfDJBbBjw0+a80vdpbczy9s5cD/UNpl2Jm9poVc/roXkl/LqktuZx0nqR5r2GfNwGXSNoEXJKsExEbgduAJ8ifrromIsr+X9r2thxDw8HGbZ4x1cwqXzEjmn8/eb6moC2AU8fYdkwR8WPgx8nyy8DKY2x3I3BjsZ9bDkZuz7m+czcrlr6WrDQzS18xI5pPmY5CKtWCxgaW5GZ5xlQzmxGKOVJA0jnAcvIdxgBExJdLVVSlaW9rZoOvQDKzGaCYaS7+GvhU8ngr8LdA1d5gZywdbTk6XznAy3urfkooM6twxXQ0/xb5PoAdEfEhoB2oL2lVFaa9NRnE5qMFM6twxYTCgeTS1EFJTeTHFRTdyVwNzlnSTEawvtNXIJlZZSumT2GtpBzwOWAdsJcKGD8wnebU13D6wkZPd2FmFa+Yq4/+j2Txs5LuAZoi4tHSllV5Otpy3LNxh2/PaWYVrZiO5otHHsBJQC5ZtgLtbTl27x/ghZf3p12KmdlxK+b00V8ULDeQn856HfC2klRUoQo7m5fOn5NyNWZmx2fCI4WIeGfB4xLgHGBn6UurLKcvnMus2qwHsZlZRSvm6qMjdZEPBitQk81w7pJmh4KZVbQJTx9J+hSH7muQATqADaUsqlK1tzWz+ucv0D84TF3N8eStmVm6iroktWB5EPh6RDxQonoqWntbjv6fbOHpHb2c29qcdjlmZpNWzCWpqyfaxvI6kttzru/a7VAws4pUzOmjxxjjtpjk78IWEfGGKa+qQi3JzWL+3DrWb93NBy84Oe1yzMwmrZjTR99Lnr+SPP8usB/wEcQRJNHemvMcSGZWsYoJhYsi4qKC9eslPRARf1OqoipZe1uO/3h6Fz0HB2hqqE27HDOzSSnmEpk5kn5lZEXShYBHZx1DR1uOCHi8y5PjmVnlKeZI4Srgi5JGek53c+gWnXaENyQdzI907ubC0+anXI2Z2eQUc/XROqA9mTZbEeE/gceRm13HKfPneMZUM6tIxUyId10SCL3A30l6WNLbS19a5epoc2ezmVWmYvoUfj8ieoC3AwuADwE3TfQmSQ2SHpK0QdJGSR9L2udJulfSpuT5hIL33CBps6SnJV16nN8pde2tzezs6WP7ngNpl2JmNinFhMLIzQEuB74UERsK2sbTB7wtItrJT41xmaQLgOuBNRGxDFiTrCNpObAKOBu4DPiMpOxkvky5aE8GsfkUkplVmmJCYZ2kH5APhe9LagSGJ3pT5O1NVmuTRwBXcGiMw2rg3cnyFcCtEdEXEVuAzeSn6a44Zy1qojYr357TzCpOMaFwFfm/5t8YEfuBOvKnkCYkKStpPfn7Ot8bEQ8CCyNiO0DyvCDZfAnQWfD2rqTtyM+8WtJaSWu7u7uLKWPaNdRmWb6oyUcKZlZxirmfwnBEPBwRu5P1l4u9HWdEDEVEB9AKnC9pvCm3xzolddT0GhFxc0SsiIgVLS0txZSRiva2HI927WZoeKwZQszMytO0zO+cBMqPyfcV7JS0CCB53pVs1gW0FbytFdg2HfWVQntrjn39QzzbvXfijc3MysQxQ0HSKa/lgyW1SMoly7OAXwOeAu4Crkw2uxK4M1m+C1glqT7Z9zLgoddSQ5o6TkpmTPUpJDOrIOMdKdwOIGnNcX72IuBHkh4FfkG+T+Hb5C9nvUTSJuCSZJ2I2AjcBjwB3ANcExFDx7nv1J1y4hwaG2rcr2BmFWW8Ec0ZSX8NnC7pw0e+GBGfGO+Dk36H88ZofxlYeYz33AjcOG7FFSKTyc+Y6iMFM6sk4x0prAIOkg+OxjEeNoH2tmae2tHLwYGKPeAxsypzzCOFiHga+P8lPRoR3zvWdnZsHW0nMDQcbNy2h18+eV7a5ZiZTaiYq49+JukTI2MDJP1dwYypNo72kRlTt/oUkplVhmJC4YvkJ8N7X/LoAb5UyqJmigVNDSxubmCD761gZhWimPspvD4ifrNg/WPJKGUrQntbzlcgmVnFKOZI4cARd167CPD0n0XqaMux9ZX9vLKvP+1SzMwmVMyRwh8CXy7oR3iVQ4PPbAKFM6a+9cwFE2xtZpauYu68toFDd14jubeCFencJc1klB/Z7FAws3JXzJEC4DA4XnPqazh9YaPvxGZmFWFaJsSrdu2t+c7mCM+YamblzaEwDdrbcry6f4Ctr+xPuxQzs3FNePoouSXmO4ClhdtPNPeRHdLelu+jX9+5m5NPnJNyNWZmx1bMkcLdwH8DTsRzHx2XMxY20lCbYYNvz2lmZa6YjubWiHhDySuZwWqyGc5d0sz6zlfTLsXMbFzFHCl8T9LbS17JDNfemuPxbT0MDA2nXYqZ2TEVEwr/CXxL0gFJPZJ6Jfny1Elqb8vRPzjM0zt60y7FzOyYigmFvwPeBMyOiKaIaIyIphLXNeN0tPn2nGZW/ooJhU3A4+GL7F+T1hNmceKcOoeCmZW1YjqatwM/lvQ9oG+k0ZekTo4kz5hqZmWvmCOFLcAaoA5fkvqadLTl2Ny9l96DA2mXYmY2pmImxPvYdBRSDdrbckTAY117uPC0+WmXY2Z2lAmPFCT9SNJ/HPko4n1tyXuflLRR0nVJ+zxJ90ralDyfUPCeGyRtlvS0pEtf21crPyO351zvyfHMrEwV06fw5wXLDcBvAoNFvG8Q+LOIeFhSI7BO0r3kR0eviYibJF0PXA98RNJyYBVwNrAY+KGk0yNiqPivU95ys+tYeuJs9yuYWdkq5vTRuiOaHpB0XxHv206+k5qI6JX0JLAEuAJ4S7LZauDHwEeS9lsjog/YImkzcD7w86K+SYXoaMvxn8+9knYZZmZjKub00byCx/zktM7rJrMTSUuB84AHgYVJYIwEx8idZ5YAnQVv60rajvysqyWtlbS2u7t7MmWUhfa2HDt6DrJjz8G0SzEzO0oxp4/WAQGI/CmhLcBVxe5A0lzgDuBPIqJH0jE3HaPtqLEREXEzcDPAihUrKm7sRHvBILbLmieVrWZmJVfM6aNTjvfDJdWSD4SvRcQ3k+adkhZFxHZJi4BdSXsX0Fbw9lZg2/Huu1wtX9REbVZs6NrNZec4FMysvBzz9JGkN0p6XcH670m6U9I/Spo30Qcrf0jwBeDJIwa63QVcmSxfCdxZ0L5KUr2kU4BlwEOT+zrlr6E2y1mLmtzZbGZlabw+hX8B+gEkXQzcBHwZ2ENy+mYCFwEfBN4maX3yuDz5nEskbQIuSdaJiI3AbcATwD3ANTPpyqNC7a05Hu3aw9BwxZ39MrMZbrzTR9mIGLlM5reBmyPiDuAOSesn+uCI+Clj9xMArDzGe24Ebpzosytde1uOr/znCzzXvZdlCz043MzKx3hHCllJI6GxEigcsFZMB7Udg2dMNbNyNV4ofB24T9KdwAHgJwCSTiN/CsmO06nz59BYX+NQMLOyc8y/+CPiRklrgEXADwqmzs4Afzwdxc1UmYx4Q1szGzzdhZmVmXFPA0XEf47R9kzpyqke7a05br7/OQ4ODNFQm027HDMzoLips60EOtpyDA4HG7f5zqZmVj4cCilxZ7OZlSOHQkoWNDWwqLnBg9jMrKw4FFLU0ZZzZ7OZlRWHQora23K88PJ+/vXBrRy6uMvMLD0OhRT99oo2Ljh1Hh/91mN84AsP0vnK/rRLMrMq51BI0Qlz6vjXP7iAG//rOWzo3MPb//5+bnlgC8OeE8nMUuJQSFkmI373v5zM9//0Ys4/ZR7/4+4neN+//JznuvemXZqZVSGHQplYkpvFLR96Ix9/bzvP7Ozlsn/4CZ+971kGh4bTLs3MqohDoYxI4rd+uZUffvjNvPWMFm763lO8559/xlM7PMDNzKaHQ6EMLWhq4LMf+GU+/f7zePHVA7zzUz/lkz98hv5BHzWYWWk5FMqUJH7jDYu598Nv5vJzF/HJH27iXZ/+KY91eYJaMysdh0KZmzenjn9YdR6f+70VvLKvn3d/5gFu+t5THByYkTelM7OUORQqxCXLF3Lvh9/Mb/7SEj5737Nc/o8/Yd0Lr0z8RjOzSXAoVJDmWbX87W+18+XfP5++gWF+67M/52N3b2R//2DapZnZDOFQqEAXn97C9//0Yj54wcl86YHnufST9/OzzS+lXZaZzQAOhQo1t76Gv7niHL5x9QVkJd7/+Qe54ZuP0XNwIO3SzKyClSwUJH1R0i5Jjxe0zZN0r6RNyfMJBa/dIGmzpKclXVqqumaa/3LqiXzvuou5+uJT+cYvtnLp39/Pj57alXZZZlahSnmkcAtw2RFt1wNrImIZsCZZR9JyYBVwdvKez0jyPSqLNKsuy0cvP4s7/vcLmVtfw4du+QUfvm09u/f3p12amVWYkoVCRNwPHHl5zBXA6mR5NfDugvZbI6IvIrYAm4HzS1XbTHXeSSfw7Wt/hT9+22nctX4bv/aJ+7nn8e1pl2VmFWS6+xQWRsR2gOR5QdK+BOgs2K4rabNJqq/J8mdvP4M7/+giFjbV84dffZhrvvYwL+3tS7s0M6sA5dLRrDHaxpw/WtLVktZKWtvd3V3isirX2Yub+fdrLuIvLj2De5/YySWfuI8717/om/mY2bimOxR2SloEkDyP9Ih2AW0F27UC28b6gIi4OSJWRMSKlpaWkhZb6WqzGa5562l859pfYen8OVx363r+YPVaduw5mHZpZlampjsU7gKuTJavBO4saF8lqV7SKcAy4KFprm3GWrawkdv/8EL+6h1n8cCzL3HJJ+7jG7/wLUDN7GilvCT168DPgTMkdUm6CrgJuETSJuCSZJ2I2AjcBjwB3ANcExGe3GcKZTPiD371VO657mKWL27iI3c8xge/8JBvAWpmh1El/7W4YsWKWLt2bdplVJzh4eBfH9rK//fdJwngI5edyQcvOJlMZqyuHTObaSSti4gVY77mUKheL+4+wA3ffIz7n+nmjIWNrFh6AmcvbuacJU2cvrCRhloPFTGbiRwKdkwRwR0Pv8i/re3kie099B7MT65XkxGnLZjL2YubOXtxE+csaeasRY00NtSmXLGZvVYOBStKRND5ygEe37aHjdv2sHFbD4+/2HPYGIelJ87m7CX5oBgJjPlz61Os2swma7xQqJnuYqx8SeKkE2dz0r9G3JEAAAkMSURBVImzufzcRaPtu3oOJgGRD4oNnbv5zqOHRkq/rqkhHxKjYdHEktwsJPdRmFUah4JNaEFTAwuaGnjrmQtG2/bsH2Dj9j1sfLFn9KjiR0/vYjg58MzNrs2fdlrczPLkqOKU+XPIujPbrKw5FOy4NM+u5cLXz+fC188fbTvQP8STO3rYuK2HjclRxZceeJ7+oWEAZtdlOWtR02FhcfrCRupqymVgvZm5T8FKamBomE07944eTWzctocntvWwrz8/DKU2K05f2DjaR/H6lrksaKqnZW49udm1PgVlVgLuaLayMjwcPP/yviQkDp1+emXf4VN912UztDTWM7+xngXJo6WxngWNDfn1pvz6/Ln11GZ9tGFWLHc0W1nJZMSpLXM5tWUu72xfDOSvfNrRc5CtL+9nV28f3b197OrtY1fvQbp7++h8ZT/rXnj1qOAAkGDe7DpaCkKjZSRIkqOOBU35IJlT7//kzcbj/0OsLEhiUfMsFjXPGne7/sFhXtp7dGjs6u1jV08f3b0HeXbXXrr39jEwdPRR8Jy67KHgGA2MI4KksZ7c7Dp3iltVcihYRamrybA4N4vFufHDY3g42H1gIAmMg/nA2JsPjl29B9nV28eT23q4r7ePvX2DY35GY0MNudm1NM/KP3Kz6miaVXtEW/65sH1ufY37QqxiORRsRspkxLw5dcybU8cZr2scd9v9/YOHHW3s6j3Iq/sH6DkwwJ4DA+ze38+eAwNs39Mz2jbWUciIbEajoVH4KAyTQ211h73uqUUsbQ4Fq3qz62o4+cQaTj5xTlHbRwT7+4fYMxoa+eeeAwPsPtB/VPvu/f08//K+0W2Gx7m2o64mc9gRyOz6GmbXZpldl6WhLju6PKuuJnnOMmu0LcvskfbakfUsDTVZT3ZoRXMomE2SJObU1zCnvmbC01hHGh4OevsGC45CBg6FyEigFLTtOTDAjj0HODAwxIH+Ifb3D3FgYIjJXjRYGBxHhshRbbVHB07DSNDUHmqvr82MttX46q8Zw6FgNo0yBaeW2ibefEwRwcGBYfb3D7K/f4iDA/mwyAfG4KHlJEDyy4OjbSPBcqB/iF29Bw9v7x8aHWw4GbVZ0VBzeHg01GVpqMmMhsihtiyz6vKB0pCETL4tO9rWUHv0++prMtRmMj7qKTGHglmFkZT/B7Muy4kl+PzBoeHDjkz29w9xcHCIgyNhMjDEwYH8NiNtBwcKnvsP3+aVff2HteVDbHDc02jjkaA2kyGbETVZUZMRNdlM8ixqMvnlbEbUZjOHtskcWs5mMtRmD22Tf86vj7z/8M8sWD/stSO2yWTIZjVa39j7OLrW0eXkc9K8UMGhYGaHqclmaMxmSjpNekQwMBRHhc2B/kPBMbo+mH/uGxxmcCgYHB5mcDgYHBpmYCgYGk7ahiLfnrx2+HN+u4ODQwwNR/K+gveMbDccDAwN5z8z2dfxhtdrkR0JtcyRoXIoDFeeuYD/8x3Lp3zfDgUzm3aSqKsRdTUZmsr8Hh3DI0EzfChgRkJoqCBERgJqYHj4sPajg+foACsMqsLPGXsfwwwMB6+bYEzP8XIomJmNI5MRdRlRV7pb2peV6viWZmZWFIeCmZmNciiYmdmosgsFSZdJelrSZknXp12PmVk1KatQkJQF/gn4dWA58DuSpv6aKzMzG1NZhQJwPrA5Ip6LiH7gVuCKlGsyM6sa5RYKS4DOgvWupG2UpKslrZW0tru7e1qLMzOb6cotFMYa233YeMKIuDkiVkTEipaWlmkqy8ysOpTb4LUuOGyesFZg27E2Xrdu3UuSXih5VaU1H3gp7SLKiH+Pw/n3OMS/xeFey+9x8rFeUEx2Dt4SklQDPAOsBF4EfgG8PyI2plpYCUlae6wbaFcj/x6H8+9xiH+Lw5Xq9yirI4WIGJT0R8D3gSzwxZkcCGZm5aasQgEgIr4LfDftOszMqlG5dTRXo5vTLqDM+Pc4nH+PQ/xbHK4kv0dZ9SmYmVm6fKRgZmajHApmZjbKoZASSW2SfiTpSUkbJV2Xdk1pk5SV9Iikb6ddS9ok5STdLump5L+RN6VdU5ok/Wny/8njkr4uqSHtmqaTpC9K2iXp8YK2eZLulbQpeT5hKvblUEjPIPBnEXEWcAFwjSf/4zrgybSLKBP/ANwTEWcC7VTx7yJpCXAtsCIiziF/ufqqdKuadrcAlx3Rdj2wJiKWAWuS9dfMoZCSiNgeEQ8ny73k/6dfMv67Zi5JrcA7gM+nXUvaJDUBFwNfAIiI/ojYnW5VqasBZiUDXGczzkwHM1FE3A+8ckTzFcDqZHk18O6p2JdDoQxIWgqcBzyYbiWp+iTwl8Bw2oWUgVOBbuBLyem0z0uak3ZRaYmIF4GPA1uB7cCeiPhBulWVhYURsR3yf2QCC6biQx0KKZM0F7gD+JOI6Em7njRI+g1gV0SsS7uWMlED/BLwzxFxHrCPKTo1UImSc+VXAKcAi4E5kj6QblUzl0MhRZJqyQfC1yLim2nXk6KLgHdJep78PTTeJumr6ZaUqi6gKyJGjhxvJx8S1erXgC0R0R0RA8A3gQtTrqkc7JS0CCB53jUVH+pQSIkkkT9n/GREfCLtetIUETdERGtELCXfgfgfEVG1fwlGxA6gU9IZSdNK4IkUS0rbVuACSbOT/29WUsUd7wXuAq5Mlq8E7pyKDy27uY+qyEXAB4HHJK1P2j6azP1k9sfA1yTVAc8BH0q5ntRExIOSbgceJn/V3iNU2ZQXkr4OvAWYL6kL+GvgJuA2SVeRD873Tsm+PM2FmZmN8OkjMzMb5VAwM7NRDgUzMxvlUDAzs1EOBTMzG+VQMJtCkvYWLF+ezGB5Upo1mU2GxymYlYCklcCngLdHxNa06zErlkPBbIpJ+lXgc8DlEfFs2vWYTYYHr5lNIUkDQC/wloh4NO16zCbLfQpmU2sA+BlwVdqFmB0Ph4LZ1BoG3ge8UdJH0y7GbLLcp2A2xSJif3KPiJ9I2hkRX0i7JrNiORTMSiAiXpF0GXC/pJciYkqmNTYrNXc0m5nZKPcpmJnZKIeCmZmNciiYmdkoh4KZmY1yKJiZ2SiHgpmZjXIomJnZqP8F+b3gwW2DtxwAAAAASUVORK5CYII=\n",
      "text/plain": [
       "<Figure size 432x288 with 1 Axes>"
      ]
     },
     "metadata": {
      "needs_background": "light"
     },
     "output_type": "display_data"
    }
   ],
   "source": [
    "plt.xlabel('K')\n",
    "plt.ylabel('Sum of squared error')\n",
    "plt.plot(krange,sse)\n",
    "plt.title(\"The Elbow Method\")"
   ]
  },
  {
   "cell_type": "markdown",
   "metadata": {},
   "source": [
    "#### K = 2 from elbow method."
   ]
  }
 ],
 "metadata": {
  "kernelspec": {
   "display_name": "Python 3",
   "language": "python",
   "name": "python3"
  },
  "language_info": {
   "codemirror_mode": {
    "name": "ipython",
    "version": 3
   },
   "file_extension": ".py",
   "mimetype": "text/x-python",
   "name": "python",
   "nbconvert_exporter": "python",
   "pygments_lexer": "ipython3",
   "version": "3.8.3"
  }
 },
 "nbformat": 4,
 "nbformat_minor": 4
}
